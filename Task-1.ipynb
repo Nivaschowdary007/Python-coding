{
 "cells": [
  {
   "cell_type": "code",
   "execution_count": 1,
   "id": "de54f53d",
   "metadata": {},
   "outputs": [],
   "source": [
    "a=\"Nivas\"\n",
    "b=\"Manikanta\"\n",
    "c=\"sai ganesh\"\n",
    "d=\"ROHIT\"\n",
    "e=\"Siddu\"\n",
    "f=\"Sai karishna\"\n",
    "g=\"Tarun\"\n",
    "h=\"Hemanth\"\n",
    "i=\"Lahari\"\n",
    "j=\"jaisri\""
   ]
  },
  {
   "cell_type": "code",
   "execution_count": 2,
   "id": "da584dfb",
   "metadata": {},
   "outputs": [
    {
     "data": {
      "text/plain": [
       "'Nivas'"
      ]
     },
     "execution_count": 2,
     "metadata": {},
     "output_type": "execute_result"
    }
   ],
   "source": [
    "a"
   ]
  },
  {
   "cell_type": "code",
   "execution_count": 3,
   "id": "c2ff576b",
   "metadata": {},
   "outputs": [
    {
     "data": {
      "text/plain": [
       "'Manikanta'"
      ]
     },
     "execution_count": 3,
     "metadata": {},
     "output_type": "execute_result"
    }
   ],
   "source": [
    "b"
   ]
  },
  {
   "cell_type": "code",
   "execution_count": 4,
   "id": "84c100d6",
   "metadata": {},
   "outputs": [
    {
     "data": {
      "text/plain": [
       "'sai ganesh'"
      ]
     },
     "execution_count": 4,
     "metadata": {},
     "output_type": "execute_result"
    }
   ],
   "source": [
    "c"
   ]
  },
  {
   "cell_type": "code",
   "execution_count": 5,
   "id": "4953586f",
   "metadata": {},
   "outputs": [
    {
     "data": {
      "text/plain": [
       "'ROHIT'"
      ]
     },
     "execution_count": 5,
     "metadata": {},
     "output_type": "execute_result"
    }
   ],
   "source": [
    "d"
   ]
  },
  {
   "cell_type": "code",
   "execution_count": 6,
   "id": "fb73c74e",
   "metadata": {},
   "outputs": [
    {
     "data": {
      "text/plain": [
       "'Siddu'"
      ]
     },
     "execution_count": 6,
     "metadata": {},
     "output_type": "execute_result"
    }
   ],
   "source": [
    "e"
   ]
  },
  {
   "cell_type": "code",
   "execution_count": 7,
   "id": "1bcd3b61",
   "metadata": {},
   "outputs": [
    {
     "data": {
      "text/plain": [
       "'Sai karishna'"
      ]
     },
     "execution_count": 7,
     "metadata": {},
     "output_type": "execute_result"
    }
   ],
   "source": [
    "f"
   ]
  },
  {
   "cell_type": "code",
   "execution_count": 8,
   "id": "67600d9d",
   "metadata": {},
   "outputs": [
    {
     "data": {
      "text/plain": [
       "'Tarun'"
      ]
     },
     "execution_count": 8,
     "metadata": {},
     "output_type": "execute_result"
    }
   ],
   "source": [
    "g"
   ]
  },
  {
   "cell_type": "code",
   "execution_count": 9,
   "id": "79eae027",
   "metadata": {},
   "outputs": [
    {
     "data": {
      "text/plain": [
       "'Hemanth'"
      ]
     },
     "execution_count": 9,
     "metadata": {},
     "output_type": "execute_result"
    }
   ],
   "source": [
    "h"
   ]
  },
  {
   "cell_type": "code",
   "execution_count": 10,
   "id": "f2ef27d6",
   "metadata": {},
   "outputs": [
    {
     "data": {
      "text/plain": [
       "'Lahari'"
      ]
     },
     "execution_count": 10,
     "metadata": {},
     "output_type": "execute_result"
    }
   ],
   "source": [
    "i"
   ]
  },
  {
   "cell_type": "code",
   "execution_count": 11,
   "id": "a65e67ec",
   "metadata": {},
   "outputs": [
    {
     "data": {
      "text/plain": [
       "'jaisri'"
      ]
     },
     "execution_count": 11,
     "metadata": {},
     "output_type": "execute_result"
    }
   ],
   "source": [
    "j"
   ]
  },
  {
   "cell_type": "code",
   "execution_count": 12,
   "id": "d660fdf1",
   "metadata": {},
   "outputs": [],
   "source": [
    "f1=\"Biryani\"\n",
    "f2=\"burger\"\n",
    "f3=\"pizza\"\n",
    "f4=\"noodels\"\n",
    "f5=\"pasta\"\n",
    "f6=\"sandwich\"\n",
    "f7=\"Tandoori\"\n",
    "f8=\"tikka\"\n",
    "f9=\"panner butter masala\"\n",
    "f10=\"Butter naan\""
   ]
  },
  {
   "cell_type": "code",
   "execution_count": 17,
   "id": "282eaeae",
   "metadata": {},
   "outputs": [
    {
     "name": "stdout",
     "output_type": "stream",
     "text": [
      "Biryani burger pizza noodels pasta sandwich Tandoori tikka panner butter masala Butter naan\n"
     ]
    }
   ],
   "source": [
    "print(f1,f2,f3,f4,f5,f6,f7,f8,f9,f10)"
   ]
  },
  {
   "cell_type": "code",
   "execution_count": 18,
   "id": "159b8cdd",
   "metadata": {},
   "outputs": [],
   "source": [
    "a1=\"satya narayana\"\n",
    "b2=\"Durga rani\"\n",
    "c3=\"Niharika\"\n",
    "d4=\"parvati\"\n",
    "e5=\"Ram krishna\"\n",
    "f6=\"murali\"\n",
    "g7=\"vara lakshmi\"\n",
    "h8=\"papayama\"\n",
    "i9=\"subaramanyam\"\n",
    "j10=\"Nivas\""
   ]
  },
  {
   "cell_type": "code",
   "execution_count": 20,
   "id": "31a26e41",
   "metadata": {},
   "outputs": [
    {
     "data": {
      "text/plain": [
       "'satya narayana'"
      ]
     },
     "execution_count": 20,
     "metadata": {},
     "output_type": "execute_result"
    }
   ],
   "source": [
    "a1"
   ]
  },
  {
   "cell_type": "code",
   "execution_count": 21,
   "id": "23fc7c3e",
   "metadata": {},
   "outputs": [
    {
     "data": {
      "text/plain": [
       "'Durga rani'"
      ]
     },
     "execution_count": 21,
     "metadata": {},
     "output_type": "execute_result"
    }
   ],
   "source": [
    "b2"
   ]
  },
  {
   "cell_type": "code",
   "execution_count": 22,
   "id": "06730e40",
   "metadata": {},
   "outputs": [
    {
     "data": {
      "text/plain": [
       "'Niharika'"
      ]
     },
     "execution_count": 22,
     "metadata": {},
     "output_type": "execute_result"
    }
   ],
   "source": [
    "c3"
   ]
  },
  {
   "cell_type": "code",
   "execution_count": 23,
   "id": "4bb62a85",
   "metadata": {},
   "outputs": [
    {
     "data": {
      "text/plain": [
       "'parvati'"
      ]
     },
     "execution_count": 23,
     "metadata": {},
     "output_type": "execute_result"
    }
   ],
   "source": [
    "d4"
   ]
  },
  {
   "cell_type": "code",
   "execution_count": 24,
   "id": "6f69a24c",
   "metadata": {},
   "outputs": [
    {
     "data": {
      "text/plain": [
       "'Ram krishna'"
      ]
     },
     "execution_count": 24,
     "metadata": {},
     "output_type": "execute_result"
    }
   ],
   "source": [
    "e5"
   ]
  },
  {
   "cell_type": "code",
   "execution_count": 25,
   "id": "1fdf11c7",
   "metadata": {},
   "outputs": [
    {
     "data": {
      "text/plain": [
       "'murali'"
      ]
     },
     "execution_count": 25,
     "metadata": {},
     "output_type": "execute_result"
    }
   ],
   "source": [
    "f6"
   ]
  },
  {
   "cell_type": "code",
   "execution_count": 26,
   "id": "3c8d8907",
   "metadata": {},
   "outputs": [
    {
     "data": {
      "text/plain": [
       "'vara lakshmi'"
      ]
     },
     "execution_count": 26,
     "metadata": {},
     "output_type": "execute_result"
    }
   ],
   "source": [
    "g7"
   ]
  },
  {
   "cell_type": "code",
   "execution_count": 27,
   "id": "b3d49adc",
   "metadata": {},
   "outputs": [
    {
     "data": {
      "text/plain": [
       "'papayama'"
      ]
     },
     "execution_count": 27,
     "metadata": {},
     "output_type": "execute_result"
    }
   ],
   "source": [
    "h8"
   ]
  },
  {
   "cell_type": "code",
   "execution_count": 28,
   "id": "badc9069",
   "metadata": {},
   "outputs": [
    {
     "data": {
      "text/plain": [
       "'subaramanyam'"
      ]
     },
     "execution_count": 28,
     "metadata": {},
     "output_type": "execute_result"
    }
   ],
   "source": [
    "i9"
   ]
  },
  {
   "cell_type": "code",
   "execution_count": 29,
   "id": "2a0174cf",
   "metadata": {},
   "outputs": [
    {
     "data": {
      "text/plain": [
       "'Nivas'"
      ]
     },
     "execution_count": 29,
     "metadata": {},
     "output_type": "execute_result"
    }
   ],
   "source": [
    "j10"
   ]
  },
  {
   "cell_type": "code",
   "execution_count": 30,
   "id": "6760644c",
   "metadata": {},
   "outputs": [],
   "source": [
    "m1=\"jan\"\n",
    "m2=\"Feb\"\n",
    "m3=\"march\"\n",
    "m4=\"April\"\n",
    "m5=\"may\"\n",
    "m6=\"june\"\n",
    "m7=\"july\"\n",
    "m8=\"aug\"\n",
    "m9=\"sep\"\n",
    "m10=\"oct\"\n",
    "m11=\"nov\"\n",
    "m12=\"dec\""
   ]
  },
  {
   "cell_type": "code",
   "execution_count": 31,
   "id": "b496e9c4",
   "metadata": {},
   "outputs": [
    {
     "data": {
      "text/plain": [
       "'oct'"
      ]
     },
     "execution_count": 31,
     "metadata": {},
     "output_type": "execute_result"
    }
   ],
   "source": [
    "m10"
   ]
  },
  {
   "cell_type": "code",
   "execution_count": 33,
   "id": "ce2179a8",
   "metadata": {},
   "outputs": [
    {
     "name": "stdout",
     "output_type": "stream",
     "text": [
      "sep\n"
     ]
    }
   ],
   "source": [
    "print(m9)"
   ]
  },
  {
   "cell_type": "code",
   "execution_count": 2,
   "id": "cbe3de06",
   "metadata": {},
   "outputs": [],
   "source": [
    "names=[\"Hemanth\",\"Manikanta\",\"sai ganesh\",\"ROHIT\",\"Siddu\",\"Sai karishna\",\"Tarun\",\"Nivas\",\"Lahari\",\"jaisri\"]"
   ]
  },
  {
   "cell_type": "code",
   "execution_count": 51,
   "id": "3eccf3fc",
   "metadata": {},
   "outputs": [
    {
     "data": {
      "text/plain": [
       "['Hemanth',\n",
       " 'Manikanta',\n",
       " 'sai ganesh',\n",
       " 'ROHIT',\n",
       " 'Siddu',\n",
       " 'Sai karishna',\n",
       " 'Tarun',\n",
       " 'Nivas',\n",
       " 'Lahari',\n",
       " 'jaisri']"
      ]
     },
     "execution_count": 51,
     "metadata": {},
     "output_type": "execute_result"
    }
   ],
   "source": [
    "names"
   ]
  },
  {
   "cell_type": "code",
   "execution_count": 52,
   "id": "b3a35dbe",
   "metadata": {},
   "outputs": [
    {
     "data": {
      "text/plain": [
       "list"
      ]
     },
     "execution_count": 52,
     "metadata": {},
     "output_type": "execute_result"
    }
   ],
   "source": [
    "type(names)"
   ]
  },
  {
   "cell_type": "code",
   "execution_count": 53,
   "id": "0f6f8454",
   "metadata": {},
   "outputs": [],
   "source": [
    "names[4]=\"pavan\""
   ]
  },
  {
   "cell_type": "code",
   "execution_count": 54,
   "id": "2a14023b",
   "metadata": {},
   "outputs": [
    {
     "data": {
      "text/plain": [
       "['Hemanth',\n",
       " 'Manikanta',\n",
       " 'sai ganesh',\n",
       " 'ROHIT',\n",
       " 'pavan',\n",
       " 'Sai karishna',\n",
       " 'Tarun',\n",
       " 'Nivas',\n",
       " 'Lahari',\n",
       " 'jaisri']"
      ]
     },
     "execution_count": 54,
     "metadata": {},
     "output_type": "execute_result"
    }
   ],
   "source": [
    "names"
   ]
  },
  {
   "cell_type": "code",
   "execution_count": 55,
   "id": "56af45b5",
   "metadata": {},
   "outputs": [
    {
     "data": {
      "text/plain": [
       "['Hemanth', 'Manikanta', 'sai ganesh', 'ROHIT', 'pavan']"
      ]
     },
     "execution_count": 55,
     "metadata": {},
     "output_type": "execute_result"
    }
   ],
   "source": [
    "names[0:5]"
   ]
  },
  {
   "cell_type": "code",
   "execution_count": 3,
   "id": "3474a926",
   "metadata": {},
   "outputs": [
    {
     "data": {
      "text/plain": [
       "['Nivas', 'Lahari', 'jaisri']"
      ]
     },
     "execution_count": 3,
     "metadata": {},
     "output_type": "execute_result"
    }
   ],
   "source": [
    "names[-3:]"
   ]
  },
  {
   "cell_type": "code",
   "execution_count": 56,
   "id": "ee9449a7",
   "metadata": {},
   "outputs": [
    {
     "data": {
      "text/plain": [
       "['Nivas', 'Lahari']"
      ]
     },
     "execution_count": 56,
     "metadata": {},
     "output_type": "execute_result"
    }
   ],
   "source": [
    "names[-3:-1]"
   ]
  },
  {
   "cell_type": "code",
   "execution_count": 5,
   "id": "5af436ad",
   "metadata": {},
   "outputs": [],
   "source": [
    "family=(\"satya narayana\",\"Durga rani\",\"Niharika\",\"parvati\",\"Ram krishna\",\"murali\",\"vara lakshmi\",\"papayama\",\"subaramanyam\",\"Nivas\")"
   ]
  },
  {
   "cell_type": "code",
   "execution_count": 6,
   "id": "ee3c16a5",
   "metadata": {},
   "outputs": [
    {
     "ename": "TypeError",
     "evalue": "'tuple' object does not support item assignment",
     "output_type": "error",
     "traceback": [
      "\u001b[1;31m---------------------------------------------------------------------------\u001b[0m",
      "\u001b[1;31mTypeError\u001b[0m                                 Traceback (most recent call last)",
      "Cell \u001b[1;32mIn[6], line 1\u001b[0m\n\u001b[1;32m----> 1\u001b[0m family[\u001b[38;5;241m2\u001b[39m]\u001b[38;5;241m=\u001b[39m\u001b[38;5;124m\"\u001b[39m\u001b[38;5;124mNiha\u001b[39m\u001b[38;5;124m\"\u001b[39m\n",
      "\u001b[1;31mTypeError\u001b[0m: 'tuple' object does not support item assignment"
     ]
    }
   ],
   "source": [
    "family[2]=\"Niha\""
   ]
  },
  {
   "cell_type": "code",
   "execution_count": 77,
   "id": "da2414ff",
   "metadata": {},
   "outputs": [
    {
     "data": {
      "text/plain": [
       "tuple"
      ]
     },
     "execution_count": 77,
     "metadata": {},
     "output_type": "execute_result"
    }
   ],
   "source": [
    "type(family)"
   ]
  },
  {
   "cell_type": "code",
   "execution_count": 80,
   "id": "06b8bca8",
   "metadata": {},
   "outputs": [
    {
     "data": {
      "text/plain": [
       "('satya narayana',\n",
       " 'Durga rani',\n",
       " 'Niharika',\n",
       " 'parvati',\n",
       " 'Ram krishna',\n",
       " 'murali',\n",
       " 'vara lakshmi',\n",
       " 'papayama',\n",
       " 'subaramanyam',\n",
       " 'Nivas')"
      ]
     },
     "execution_count": 80,
     "metadata": {},
     "output_type": "execute_result"
    }
   ],
   "source": [
    "family"
   ]
  },
  {
   "cell_type": "code",
   "execution_count": 81,
   "id": "75d201be",
   "metadata": {},
   "outputs": [],
   "source": [
    "tollywood_heros=[\"chiru\", \"balaya\", \"nag\",\"venky\",\"powerstar\",\"superstar\",\"ntr\",\"ramcharan\"]"
   ]
  },
  {
   "cell_type": "code",
   "execution_count": 82,
   "id": "ba174e68",
   "metadata": {},
   "outputs": [],
   "source": [
    "tollywood_heros[0]=\"chiranjeevi\""
   ]
  },
  {
   "cell_type": "code",
   "execution_count": 83,
   "id": "5d5fec7c",
   "metadata": {},
   "outputs": [],
   "source": [
    "tollywood_heros[1]=\"balakrishan\""
   ]
  },
  {
   "cell_type": "code",
   "execution_count": 84,
   "id": "dd9de310",
   "metadata": {},
   "outputs": [],
   "source": [
    "tollywood_heros[2]=\"nagarjuna\""
   ]
  },
  {
   "cell_type": "code",
   "execution_count": 85,
   "id": "b88d89de",
   "metadata": {},
   "outputs": [],
   "source": [
    "tollywood_heros[4]=\"pawan kalyan\""
   ]
  },
  {
   "cell_type": "code",
   "execution_count": 86,
   "id": "e288d25d",
   "metadata": {},
   "outputs": [],
   "source": [
    "tollywood_heros[5]=\"maheshbabu\""
   ]
  },
  {
   "cell_type": "code",
   "execution_count": 87,
   "id": "b1b4d1c1",
   "metadata": {},
   "outputs": [],
   "source": [
    "tollywood_heros[6]=\"NT rama rao\""
   ]
  },
  {
   "cell_type": "code",
   "execution_count": 88,
   "id": "394b30cb",
   "metadata": {},
   "outputs": [],
   "source": [
    "tollywood_heros[7]=\"ramcharan\""
   ]
  },
  {
   "cell_type": "code",
   "execution_count": 89,
   "id": "ca9095f6",
   "metadata": {},
   "outputs": [
    {
     "data": {
      "text/plain": [
       "['chiranjeevi',\n",
       " 'balakrishan',\n",
       " 'nagarjuna',\n",
       " 'venky',\n",
       " 'pawan kalyan',\n",
       " 'maheshbabu',\n",
       " 'NT rama rao',\n",
       " 'ramcharan']"
      ]
     },
     "execution_count": 89,
     "metadata": {},
     "output_type": "execute_result"
    }
   ],
   "source": [
    "tollywood_heros"
   ]
  },
  {
   "cell_type": "code",
   "execution_count": 90,
   "id": "f67d1f6b",
   "metadata": {},
   "outputs": [],
   "source": [
    "breakfast_items=[\"upma\",\"dosa\",\"idly\",\"puri\",\"punugulu\",\"roti\",\"chapathi\", \"parota\",\"mysoor baji\",\"minapa baji\"]"
   ]
  },
  {
   "cell_type": "code",
   "execution_count": 91,
   "id": "ef05b7a7",
   "metadata": {
    "scrolled": true
   },
   "outputs": [
    {
     "name": "stdout",
     "output_type": "stream",
     "text": [
      "My Favorite breakfast time is parota\n"
     ]
    }
   ],
   "source": [
    "print(\"My Favorite breakfast time is\",breakfast_items[7])"
   ]
  },
  {
   "cell_type": "code",
   "execution_count": 1,
   "id": "2e94656d",
   "metadata": {},
   "outputs": [],
   "source": [
    "month_names={1,9,10,5,3,2,7,8,6,4}"
   ]
  },
  {
   "cell_type": "code",
   "execution_count": 2,
   "id": "e9b5f844",
   "metadata": {},
   "outputs": [
    {
     "data": {
      "text/plain": [
       "{1, 2, 3, 4, 5, 6, 7, 8, 9, 10}"
      ]
     },
     "execution_count": 2,
     "metadata": {},
     "output_type": "execute_result"
    }
   ],
   "source": [
    "month_names"
   ]
  },
  {
   "cell_type": "code",
   "execution_count": 3,
   "id": "a525e2cb",
   "metadata": {},
   "outputs": [],
   "source": [
    "colour={\"red\",\"blue\",\"green\",\"yellow\",\"orange\",\"white\",\"black\",\"pink\",\"violte\",\"purple\"}"
   ]
  },
  {
   "cell_type": "code",
   "execution_count": 4,
   "id": "3873a763",
   "metadata": {},
   "outputs": [
    {
     "data": {
      "text/plain": [
       "{'black',\n",
       " 'blue',\n",
       " 'green',\n",
       " 'orange',\n",
       " 'pink',\n",
       " 'purple',\n",
       " 'red',\n",
       " 'violte',\n",
       " 'white',\n",
       " 'yellow'}"
      ]
     },
     "execution_count": 4,
     "metadata": {},
     "output_type": "execute_result"
    }
   ],
   "source": [
    "colour"
   ]
  },
  {
   "cell_type": "code",
   "execution_count": 5,
   "id": "f989cf6c",
   "metadata": {},
   "outputs": [],
   "source": [
    "bollywood_heros={\"sharukkhan\", \"salmankhan\", \"salmankhan\",\"amirkhan\",\"HrithikRoshan\",\"Amitabh Bachchan\",\"Akshay Kumar\",\"amirkhan\"}"
   ]
  },
  {
   "cell_type": "code",
   "execution_count": 6,
   "id": "cdaf1add",
   "metadata": {},
   "outputs": [
    {
     "data": {
      "text/plain": [
       "{'Akshay Kumar',\n",
       " 'Amitabh Bachchan',\n",
       " 'HrithikRoshan',\n",
       " 'amirkhan',\n",
       " 'salmankhan',\n",
       " 'sharukkhan'}"
      ]
     },
     "execution_count": 6,
     "metadata": {},
     "output_type": "execute_result"
    }
   ],
   "source": [
    "bollywood_heros"
   ]
  },
  {
   "cell_type": "code",
   "execution_count": null,
   "id": "82a679c0",
   "metadata": {},
   "outputs": [],
   "source": [
    "1.Function in Python is a block of organized, reusable code that performs a specific task.\n",
    "\n",
    "2.The type function in Python is used to determine the type of an object.\n",
    "\n",
    "3.print function in Python is used to display the specified content (like variables, strings, etc.) on the output device, typically the console.\n",
    "\n",
    "4.Overwriting in Python refers to the process of replacing or updating the value of a variable or function with a new value or definition."
   ]
  }
 ],
 "metadata": {
  "kernelspec": {
   "display_name": "Python 3 (ipykernel)",
   "language": "python",
   "name": "python3"
  },
  "language_info": {
   "codemirror_mode": {
    "name": "ipython",
    "version": 3
   },
   "file_extension": ".py",
   "mimetype": "text/x-python",
   "name": "python",
   "nbconvert_exporter": "python",
   "pygments_lexer": "ipython3",
   "version": "3.11.5"
  }
 },
 "nbformat": 4,
 "nbformat_minor": 5
}

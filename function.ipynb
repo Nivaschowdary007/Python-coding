{
 "cells": [
  {
   "cell_type": "code",
   "execution_count": 3,
   "id": "d6bd9512",
   "metadata": {},
   "outputs": [
    {
     "name": "stdout",
     "output_type": "stream",
     "text": [
      "Credit limit is 20 time of your salary\n"
     ]
    }
   ],
   "source": [
    "def creditlimit(salary):\n",
    "    if salary<10000:\n",
    "        print(\"credit limit 10 times of your salary\")\n",
    "    elif salary>10000 and salary<30000:\n",
    "        print(\"Credit limit is 20 time of your salary\")\n",
    "    else:\n",
    "        print(\"Credit limit is 30 times of your salary\")\n",
    "        \n",
    "creditlimit(20000)"
   ]
  },
  {
   "cell_type": "code",
   "execution_count": 8,
   "id": "af735906",
   "metadata": {},
   "outputs": [
    {
     "name": "stdout",
     "output_type": "stream",
     "text": [
      "discount is 40%\n"
     ]
    }
   ],
   "source": [
    "def dmart(salary):\n",
    "    if salary<20000:\n",
    "        print(\"discount is 20%\")\n",
    "    elif salary>20000 and salary<40000:\n",
    "        print(\"discount is 30%\")\n",
    "    else:\n",
    "        print(\"discount is 40%\")\n",
    "        \n",
    "dmart(620000)"
   ]
  },
  {
   "cell_type": "code",
   "execution_count": 11,
   "id": "ad4aa6bd",
   "metadata": {},
   "outputs": [
    {
     "name": "stdout",
     "output_type": "stream",
     "text": [
      "discount is 40%\n"
     ]
    }
   ],
   "source": [
    "def type(product):\n",
    "    if product==\"electoric\":\n",
    "        print(\"discount is 20%\")\n",
    "    elif product==\"cloth\":\n",
    "        print(\"discount is 30%\")\n",
    "    else:\n",
    "        print(\"discount is 40%\")\n",
    "        \n",
    "type(\"footware\")"
   ]
  },
  {
   "cell_type": "code",
   "execution_count": null,
   "id": "40f45cb6",
   "metadata": {},
   "outputs": [],
   "source": []
  }
 ],
 "metadata": {
  "kernelspec": {
   "display_name": "Python 3 (ipykernel)",
   "language": "python",
   "name": "python3"
  },
  "language_info": {
   "codemirror_mode": {
    "name": "ipython",
    "version": 3
   },
   "file_extension": ".py",
   "mimetype": "text/x-python",
   "name": "python",
   "nbconvert_exporter": "python",
   "pygments_lexer": "ipython3",
   "version": "3.11.5"
  }
 },
 "nbformat": 4,
 "nbformat_minor": 5
}

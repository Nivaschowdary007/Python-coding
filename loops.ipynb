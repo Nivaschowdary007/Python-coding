{
 "cells": [
  {
   "cell_type": "code",
   "execution_count": 1,
   "id": "999262fb",
   "metadata": {},
   "outputs": [
    {
     "name": "stdout",
     "output_type": "stream",
     "text": [
      "0\n",
      "1\n",
      "2\n",
      "3\n",
      "4\n",
      "5\n",
      "6\n",
      "7\n",
      "8\n",
      "9\n"
     ]
    }
   ],
   "source": [
    "for i in range(10):\n",
    "    print(i)"
   ]
  },
  {
   "cell_type": "code",
   "execution_count": 2,
   "id": "95bc1def",
   "metadata": {},
   "outputs": [
    {
     "name": "stdout",
     "output_type": "stream",
     "text": [
      "1\n",
      "a\n",
      "b\n",
      "2\n",
      "a\n",
      "b\n",
      "3\n",
      "a\n",
      "b\n",
      "4\n",
      "a\n",
      "b\n",
      "5\n",
      "a\n",
      "b\n",
      "6\n",
      "a\n",
      "b\n"
     ]
    }
   ],
   "source": [
    "lst=[1,2,3,4,5,6]\n",
    "lst1=[\"a\",\"b\"]\n",
    "\n",
    "for i1 in lst:\n",
    "    print(i1)\n",
    "    for i2 in lst1:\n",
    "        print(i2)"
   ]
  },
  {
   "cell_type": "code",
   "execution_count": 2,
   "id": "5bd3359c",
   "metadata": {},
   "outputs": [
    {
     "name": "stdout",
     "output_type": "stream",
     "text": [
      "My Friend name is: Hemanth\n",
      "My Friend name is: Manikanta\n",
      "My Friend name is: sai ganesh\n",
      "My Friend name is: ROHIT\n",
      "My Friend name is: Siddu\n",
      "My Friend name is: Sai karishna\n",
      "My Friend name is: Tarun\n",
      "My Friend name is: Nivas\n",
      "My Friend name is: Lahari\n",
      "My Friend name is: jaisri\n"
     ]
    }
   ],
   "source": [
    "names=[\"Hemanth\",\"Manikanta\",\"sai ganesh\",\"ROHIT\",\"Siddu\",\"Sai karishna\",\"Tarun\",\"Nivas\",\"Lahari\",\"jaisri\"]\n",
    "for x in names:\n",
    "    print(\"My Friend name is:\",x)"
   ]
  },
  {
   "cell_type": "code",
   "execution_count": 4,
   "id": "0ee50230",
   "metadata": {},
   "outputs": [
    {
     "name": "stdout",
     "output_type": "stream",
     "text": [
      "satya narayana\n",
      "Durga rani\n",
      "Niharika\n",
      "parvati\n",
      "Ram krishna\n",
      "murali\n",
      "vara lakshmi\n",
      "papayama\n",
      "subaramanyam\n",
      "Nivas\n"
     ]
    }
   ],
   "source": [
    "family=[\"satya narayana\",\"Durga rani\",\"Niharika\",\"parvati\",\"Ram krishna\",\"murali\",\"vara lakshmi\",\"papayama\",\"subaramanyam\",\"Nivas\"]\n",
    "for f in family:\n",
    "    print(f)"
   ]
  },
  {
   "cell_type": "code",
   "execution_count": 6,
   "id": "143d1094",
   "metadata": {},
   "outputs": [
    {
     "name": "stdout",
     "output_type": "stream",
     "text": [
      "panner butter masala\n",
      "Panner tikka\n",
      "Mashroom 65\n",
      "Panner manchurian\n",
      "chilly panner\n",
      "butter naan\n",
      "veg biryaniya\n",
      "Panner biryani\n",
      "Babycorn 65\n",
      "crispy corn\n"
     ]
    }
   ],
   "source": [
    "veg=[\"panner butter masala\",\"Panner tikka\",\"Mashroom 65\",\"Panner manchurian\",\"chilly panner\",\"butter naan\",\"veg biryaniya\",\"Panner biryani\",\"Babycorn 65\",\"crispy corn\"]\n",
    "for v in veg:\n",
    "    print(v)"
   ]
  },
  {
   "cell_type": "code",
   "execution_count": 7,
   "id": "6e4d94d7",
   "metadata": {},
   "outputs": [
    {
     "name": "stdout",
     "output_type": "stream",
     "text": [
      "chicken butter masala\n",
      "chiken tikka\n",
      "chicken 65\n",
      "chicken manchurian\n",
      "chilly mutton\n",
      "paya\n",
      "Mutton biryaniya\n",
      "fish biryani\n",
      "Apollo fish\n"
     ]
    }
   ],
   "source": [
    "nonveg=(\"chicken butter masala\",\"chiken tikka\",\"chicken 65\",\"chicken manchurian\",\"chilly mutton\",\"paya\",\"Mutton biryaniya\",\"fish biryani\",\"Apollo fish\")\n",
    "for n in nonveg:\n",
    "    print(n)"
   ]
  },
  {
   "cell_type": "code",
   "execution_count": 8,
   "id": "e32e91e5",
   "metadata": {},
   "outputs": [
    {
     "name": "stdout",
     "output_type": "stream",
     "text": [
      "black\n",
      "violte\n",
      "yellow\n",
      "red\n",
      "pink\n",
      "purple\n",
      "green\n",
      "blue\n",
      "orange\n",
      "white\n"
     ]
    }
   ],
   "source": [
    "colours={\"red\",\"blue\",\"green\",\"yellow\",\"orange\",\"white\",\"black\",\"pink\",\"violte\",\"purple\"}\n",
    "for c in colours:\n",
    "    print(c)"
   ]
  },
  {
   "cell_type": "code",
   "execution_count": 9,
   "id": "31b35364",
   "metadata": {},
   "outputs": [
    {
     "name": "stdout",
     "output_type": "stream",
     "text": [
      "jan\n",
      "Feb\n",
      "march\n",
      "April\n",
      "may\n",
      "june\n",
      "july\n",
      "aug\n",
      "sep\n",
      "oct\n",
      "nov\n",
      "dec\n"
     ]
    }
   ],
   "source": [
    "months=[\"jan\",\"Feb\",\"march\",\"April\",\"may\",\"june\",\"july\",\"aug\",\"sep\",\"oct\",\"nov\",\"dec\"]\n",
    "for m in months:\n",
    "    print(m)"
   ]
  },
  {
   "cell_type": "code",
   "execution_count": 12,
   "id": "262d7d74",
   "metadata": {},
   "outputs": [
    {
     "ename": "SyntaxError",
     "evalue": "invalid decimal literal (2403583098.py, line 1)",
     "output_type": "error",
     "traceback": [
      "\u001b[1;36m  Cell \u001b[1;32mIn[12], line 1\u001b[1;36m\u001b[0m\n\u001b[1;33m    12. print 9th table (1 to 91)\u001b[0m\n\u001b[1;37m              ^\u001b[0m\n\u001b[1;31mSyntaxError\u001b[0m\u001b[1;31m:\u001b[0m invalid decimal literal\n"
     ]
    }
   ],
   "source": [
    "12. print 9th table (1 to 90)\n",
    "13. print(12th table (1 to 120)"
   ]
  },
  {
   "cell_type": "code",
   "execution_count": 13,
   "id": "2cf4cbd1",
   "metadata": {},
   "outputs": [
    {
     "name": "stdout",
     "output_type": "stream",
     "text": [
      "0\n",
      "9\n",
      "18\n",
      "27\n",
      "36\n",
      "45\n",
      "54\n",
      "63\n",
      "72\n",
      "81\n",
      "90\n",
      "99\n",
      "108\n",
      "117\n",
      "126\n",
      "135\n",
      "144\n",
      "153\n",
      "162\n",
      "171\n",
      "180\n",
      "189\n",
      "198\n",
      "207\n",
      "216\n",
      "225\n",
      "234\n",
      "243\n",
      "252\n",
      "261\n",
      "270\n",
      "279\n",
      "288\n",
      "297\n",
      "306\n",
      "315\n",
      "324\n",
      "333\n",
      "342\n",
      "351\n",
      "360\n",
      "369\n",
      "378\n",
      "387\n",
      "396\n",
      "405\n",
      "414\n",
      "423\n",
      "432\n",
      "441\n",
      "450\n",
      "459\n",
      "468\n",
      "477\n",
      "486\n",
      "495\n",
      "504\n",
      "513\n",
      "522\n",
      "531\n",
      "540\n",
      "549\n",
      "558\n",
      "567\n",
      "576\n",
      "585\n",
      "594\n",
      "603\n",
      "612\n",
      "621\n",
      "630\n",
      "639\n",
      "648\n",
      "657\n",
      "666\n",
      "675\n",
      "684\n",
      "693\n",
      "702\n",
      "711\n",
      "720\n",
      "729\n",
      "738\n",
      "747\n",
      "756\n",
      "765\n",
      "774\n",
      "783\n",
      "792\n",
      "801\n",
      "810\n"
     ]
    }
   ],
   "source": [
    "num=9\n",
    "\n",
    "for j in range(91):\n",
    "    print(num*j)"
   ]
  },
  {
   "cell_type": "code",
   "execution_count": 14,
   "id": "4dccb7d6",
   "metadata": {},
   "outputs": [
    {
     "name": "stdout",
     "output_type": "stream",
     "text": [
      "12\n",
      "24\n",
      "36\n",
      "48\n",
      "60\n",
      "72\n",
      "84\n",
      "96\n",
      "108\n",
      "120\n",
      "132\n",
      "144\n",
      "156\n",
      "168\n",
      "180\n",
      "192\n",
      "204\n",
      "216\n",
      "228\n",
      "240\n",
      "252\n",
      "264\n",
      "276\n",
      "288\n",
      "300\n",
      "312\n",
      "324\n",
      "336\n",
      "348\n",
      "360\n",
      "372\n",
      "384\n",
      "396\n",
      "408\n",
      "420\n",
      "432\n",
      "444\n",
      "456\n",
      "468\n",
      "480\n",
      "492\n",
      "504\n",
      "516\n",
      "528\n",
      "540\n",
      "552\n",
      "564\n",
      "576\n",
      "588\n",
      "600\n",
      "612\n",
      "624\n",
      "636\n",
      "648\n",
      "660\n",
      "672\n",
      "684\n",
      "696\n",
      "708\n",
      "720\n",
      "732\n",
      "744\n",
      "756\n",
      "768\n",
      "780\n",
      "792\n",
      "804\n",
      "816\n",
      "828\n",
      "840\n",
      "852\n",
      "864\n",
      "876\n",
      "888\n",
      "900\n",
      "912\n",
      "924\n",
      "936\n",
      "948\n",
      "960\n",
      "972\n",
      "984\n",
      "996\n",
      "1008\n",
      "1020\n",
      "1032\n",
      "1044\n",
      "1056\n",
      "1068\n",
      "1080\n",
      "1092\n",
      "1104\n",
      "1116\n",
      "1128\n",
      "1140\n",
      "1152\n",
      "1164\n",
      "1176\n",
      "1188\n",
      "1200\n",
      "1212\n",
      "1224\n",
      "1236\n",
      "1248\n",
      "1260\n",
      "1272\n",
      "1284\n",
      "1296\n",
      "1308\n",
      "1320\n",
      "1332\n",
      "1344\n",
      "1356\n",
      "1368\n",
      "1380\n",
      "1392\n",
      "1404\n",
      "1416\n",
      "1428\n"
     ]
    }
   ],
   "source": [
    "num1=12\n",
    "\n",
    "for j1 in range(1,120,1):\n",
    "    print(num1*j1)"
   ]
  }
 ],
 "metadata": {
  "kernelspec": {
   "display_name": "Python 3 (ipykernel)",
   "language": "python",
   "name": "python3"
  },
  "language_info": {
   "codemirror_mode": {
    "name": "ipython",
    "version": 3
   },
   "file_extension": ".py",
   "mimetype": "text/x-python",
   "name": "python",
   "nbconvert_exporter": "python",
   "pygments_lexer": "ipython3",
   "version": "3.11.5"
  }
 },
 "nbformat": 4,
 "nbformat_minor": 5
}

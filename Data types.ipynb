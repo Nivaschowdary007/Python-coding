{
 "cells": [
  {
   "cell_type": "code",
   "execution_count": 1,
   "id": "2c1caea8",
   "metadata": {},
   "outputs": [
    {
     "name": "stdout",
     "output_type": "stream",
     "text": [
      "Hello world\n"
     ]
    }
   ],
   "source": [
    "print(\"Hello world\")"
   ]
  },
  {
   "cell_type": "code",
   "execution_count": null,
   "id": "8566cf80",
   "metadata": {},
   "outputs": [],
   "source": [
    "varaible(int,float,str)"
   ]
  },
  {
   "cell_type": "code",
   "execution_count": 6,
   "id": "ff989b3b",
   "metadata": {},
   "outputs": [],
   "source": [
    "sales = 1000\n",
    "x = 900\n",
    "a = sales+x"
   ]
  },
  {
   "cell_type": "code",
   "execution_count": 10,
   "id": "3ac55209",
   "metadata": {},
   "outputs": [
    {
     "data": {
      "text/plain": [
       "1900"
      ]
     },
     "execution_count": 10,
     "metadata": {},
     "output_type": "execute_result"
    }
   ],
   "source": [
    "a"
   ]
  },
  {
   "cell_type": "code",
   "execution_count": 11,
   "id": "5de98d68",
   "metadata": {},
   "outputs": [
    {
     "data": {
      "text/plain": [
       "132.5458451"
      ]
     },
     "execution_count": 11,
     "metadata": {},
     "output_type": "execute_result"
    }
   ],
   "source": [
    "f=132.5458451\n",
    "\n",
    "f\n"
   ]
  },
  {
   "cell_type": "code",
   "execution_count": 12,
   "id": "deb436fa",
   "metadata": {},
   "outputs": [],
   "source": [
    "name = 'Nivas'"
   ]
  },
  {
   "cell_type": "code",
   "execution_count": 13,
   "id": "45079ddb",
   "metadata": {},
   "outputs": [
    {
     "data": {
      "text/plain": [
       "'Nivas'"
      ]
     },
     "execution_count": 13,
     "metadata": {},
     "output_type": "execute_result"
    }
   ],
   "source": [
    "name"
   ]
  },
  {
   "cell_type": "code",
   "execution_count": 15,
   "id": "7b67b38c",
   "metadata": {},
   "outputs": [
    {
     "name": "stdout",
     "output_type": "stream",
     "text": [
      "This is Nivas\n"
     ]
    }
   ],
   "source": [
    "print(\"This is\",name)"
   ]
  }
 ],
 "metadata": {
  "kernelspec": {
   "display_name": "Python 3 (ipykernel)",
   "language": "python",
   "name": "python3"
  },
  "language_info": {
   "codemirror_mode": {
    "name": "ipython",
    "version": 3
   },
   "file_extension": ".py",
   "mimetype": "text/x-python",
   "name": "python",
   "nbconvert_exporter": "python",
   "pygments_lexer": "ipython3",
   "version": "3.11.5"
  }
 },
 "nbformat": 4,
 "nbformat_minor": 5
}

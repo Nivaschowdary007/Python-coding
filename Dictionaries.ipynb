{
 "cells": [
  {
   "cell_type": "code",
   "execution_count": 1,
   "id": "7e7fcd8d",
   "metadata": {},
   "outputs": [],
   "source": [
    "dict1={\"name\":\"Nivas\"}"
   ]
  },
  {
   "cell_type": "code",
   "execution_count": 2,
   "id": "003f7761",
   "metadata": {},
   "outputs": [
    {
     "data": {
      "text/plain": [
       "{'name': 'Nivas'}"
      ]
     },
     "execution_count": 2,
     "metadata": {},
     "output_type": "execute_result"
    }
   ],
   "source": [
    "dict1"
   ]
  },
  {
   "cell_type": "code",
   "execution_count": 4,
   "id": "f8b97b1f",
   "metadata": {},
   "outputs": [
    {
     "data": {
      "text/plain": [
       "'Nivas'"
      ]
     },
     "execution_count": 4,
     "metadata": {},
     "output_type": "execute_result"
    }
   ],
   "source": [
    "dict1[\"name\"]"
   ]
  },
  {
   "cell_type": "code",
   "execution_count": 5,
   "id": "eca90c15",
   "metadata": {},
   "outputs": [],
   "source": [
    "dict2={\"name\":\"Nivas\",\"surname\":\"Annamareddy\"}"
   ]
  },
  {
   "cell_type": "code",
   "execution_count": 6,
   "id": "d97b8322",
   "metadata": {},
   "outputs": [
    {
     "data": {
      "text/plain": [
       "'Annamareddy'"
      ]
     },
     "execution_count": 6,
     "metadata": {},
     "output_type": "execute_result"
    }
   ],
   "source": [
    "dict2[\"surname\"]"
   ]
  },
  {
   "cell_type": "code",
   "execution_count": 9,
   "id": "f490f497",
   "metadata": {},
   "outputs": [],
   "source": [
    "dict3={\"names\": [\"Nivas\",\"Lahari\",\"jaisri\"],\"class\":[13,5,9]}"
   ]
  },
  {
   "cell_type": "code",
   "execution_count": 13,
   "id": "57816b0e",
   "metadata": {},
   "outputs": [
    {
     "data": {
      "text/plain": [
       "[13, 5, 9]"
      ]
     },
     "execution_count": 13,
     "metadata": {},
     "output_type": "execute_result"
    }
   ],
   "source": [
    "dict3[\"class\"]"
   ]
  },
  {
   "cell_type": "code",
   "execution_count": 19,
   "id": "63c2a37e",
   "metadata": {},
   "outputs": [
    {
     "name": "stdout",
     "output_type": "stream",
     "text": [
      "Lahari roll no 5\n"
     ]
    }
   ],
   "source": [
    "print(dict3[\"names\"][1],\"roll no\",dict3[\"class\"][1])"
   ]
  }
 ],
 "metadata": {
  "kernelspec": {
   "display_name": "Python 3 (ipykernel)",
   "language": "python",
   "name": "python3"
  },
  "language_info": {
   "codemirror_mode": {
    "name": "ipython",
    "version": 3
   },
   "file_extension": ".py",
   "mimetype": "text/x-python",
   "name": "python",
   "nbconvert_exporter": "python",
   "pygments_lexer": "ipython3",
   "version": "3.11.5"
  }
 },
 "nbformat": 4,
 "nbformat_minor": 5
}

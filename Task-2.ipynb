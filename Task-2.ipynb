{
 "cells": [
  {
   "cell_type": "code",
   "execution_count": 8,
   "id": "82f0c041",
   "metadata": {},
   "outputs": [
    {
     "name": "stdout",
     "output_type": "stream",
     "text": [
      "10\n"
     ]
    }
   ],
   "source": [
    "age=int(input())"
   ]
  },
  {
   "cell_type": "code",
   "execution_count": 9,
   "id": "d37093ea",
   "metadata": {},
   "outputs": [
    {
     "name": "stdout",
     "output_type": "stream",
     "text": [
      "You are Younge_age\n"
     ]
    }
   ],
   "source": [
    "if age>=20 and age<30:\n",
    "    print(\"You are teen_age\")\n",
    "else:\n",
    "    print(\"You are Younge_age\")\n",
    "    "
   ]
  },
  {
   "cell_type": "code",
   "execution_count": 11,
   "id": "05a2d18a",
   "metadata": {},
   "outputs": [
    {
     "name": "stdout",
     "output_type": "stream",
     "text": [
      "Monday\n",
      "weekday\n"
     ]
    }
   ],
   "source": [
    "today=input()\n",
    "\n",
    "if today==\"Monday\" or today==\"Tuesday\" or today==\"Wendsday\" or today==\"Thursday\" or today==\"Friday\":\n",
    "    print(\"weekday\")\n",
    "else :\n",
    "    print(\"weekend\")\n",
    "    \n"
   ]
  },
  {
   "cell_type": "code",
   "execution_count": 12,
   "id": "f69f32e3",
   "metadata": {},
   "outputs": [
    {
     "name": "stdout",
     "output_type": "stream",
     "text": [
      "i lost\n"
     ]
    }
   ],
   "source": [
    "income=10\n",
    "minsale=10\n",
    "\n",
    "if income>minsale:\n",
    "    print(\"i am profitable\")\n",
    "else:\n",
    "    print(\"i lost\")"
   ]
  },
  {
   "cell_type": "code",
   "execution_count": 1,
   "id": "8ee57391",
   "metadata": {},
   "outputs": [
    {
     "name": "stdout",
     "output_type": "stream",
     "text": [
      "i am younger\n"
     ]
    }
   ],
   "source": [
    "bage=15\n",
    "sage=20\n",
    "\n",
    "if bage>sage:\n",
    "    print(\"i am elder\")\n",
    "else:\n",
    "    print(\"i am younger\")"
   ]
  },
  {
   "cell_type": "code",
   "execution_count": 2,
   "id": "fb88a4ca",
   "metadata": {},
   "outputs": [
    {
     "name": "stdout",
     "output_type": "stream",
     "text": [
      "30% discount\n"
     ]
    }
   ],
   "source": [
    "purchase=200\n",
    "\n",
    "if purchase>100:\n",
    "    print(\"30% discount\")\n",
    "elif purchase<50:\n",
    "    print(\"10% discount\")\n",
    "else:\n",
    "    print(\"20% discount\")"
   ]
  },
  {
   "cell_type": "code",
   "execution_count": 1,
   "id": "ffc0106b",
   "metadata": {},
   "outputs": [
    {
     "name": "stdout",
     "output_type": "stream",
     "text": [
      "Select one:140/100/50\n",
      "100\n"
     ]
    }
   ],
   "source": [
    "print(\"Select one:140/100/50\")\n",
    "ticket=int(input())"
   ]
  },
  {
   "cell_type": "code",
   "execution_count": 2,
   "id": "c308adeb",
   "metadata": {},
   "outputs": [
    {
     "name": "stdout",
     "output_type": "stream",
     "text": [
      "Bench\n"
     ]
    }
   ],
   "source": [
    "if ticket==140:\n",
    "    print(\"Bolcony\")\n",
    "elif ticket==100:\n",
    "    print(\"Bench\")\n",
    "else:\n",
    "    print(\"chair\")"
   ]
  },
  {
   "cell_type": "code",
   "execution_count": 5,
   "id": "28720dd2",
   "metadata": {},
   "outputs": [
    {
     "name": "stdout",
     "output_type": "stream",
     "text": [
      "vehicle-----2 0r 4 wheeler:\n",
      "2\n",
      "BIKE\n",
      "    SCOOTY\n"
     ]
    }
   ],
   "source": [
    "print(\"vehicle-----2 0r 4 wheeler:\")\n",
    "vehicle=int(input())\n",
    "if vehicle==2:\n",
    "    print('''BIKE\n",
    "    SCOOTY''')\n",
    "else:\n",
    "    print('''car\n",
    "    loory\n",
    "    van \n",
    "    zeep''')"
   ]
  },
  {
   "cell_type": "code",
   "execution_count": null,
   "id": "98325b76",
   "metadata": {},
   "outputs": [],
   "source": []
  }
 ],
 "metadata": {
  "kernelspec": {
   "display_name": "Python 3 (ipykernel)",
   "language": "python",
   "name": "python3"
  },
  "language_info": {
   "codemirror_mode": {
    "name": "ipython",
    "version": 3
   },
   "file_extension": ".py",
   "mimetype": "text/x-python",
   "name": "python",
   "nbconvert_exporter": "python",
   "pygments_lexer": "ipython3",
   "version": "3.11.5"
  }
 },
 "nbformat": 4,
 "nbformat_minor": 5
}
